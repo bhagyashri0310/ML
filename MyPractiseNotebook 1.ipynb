{
 "cells": [
  {
   "cell_type": "code",
   "execution_count": null,
   "id": "48a10e09",
   "metadata": {},
   "outputs": [],
   "source": [
    "# The notebook contains the basic 4 built in datatypes excercise"
   ]
  },
  {
   "cell_type": "code",
   "execution_count": 1,
   "id": "7d82d6aa",
   "metadata": {
    "scrolled": true
   },
   "outputs": [
    {
     "name": "stdout",
     "output_type": "stream",
     "text": [
      "Hello World!\n"
     ]
    }
   ],
   "source": [
    "print(\"Hello World!\")"
   ]
  },
  {
   "cell_type": "code",
   "execution_count": 2,
   "id": "6cf10cbc",
   "metadata": {},
   "outputs": [],
   "source": [
    "## Variables"
   ]
  },
  {
   "cell_type": "code",
   "execution_count": 3,
   "id": "aa1cbefe",
   "metadata": {},
   "outputs": [
    {
     "name": "stdout",
     "output_type": "stream",
     "text": [
      "Hello World!\n"
     ]
    }
   ],
   "source": [
    "msg = \"Hello World!\"\n",
    "print(msg)"
   ]
  },
  {
   "cell_type": "code",
   "execution_count": 4,
   "id": "6cb07df9",
   "metadata": {},
   "outputs": [
    {
     "name": "stdout",
     "output_type": "stream",
     "text": [
      "fullname :  Bhagyashri Bhosale\n"
     ]
    }
   ],
   "source": [
    "firstname = \"Bhagyashri\"\n",
    "lastname = \"Bhosale\"\n",
    "fullname = firstname + \" \"+ lastname\n",
    "print(\"fullname : \", fullname)"
   ]
  },
  {
   "cell_type": "markdown",
   "id": "4b644142",
   "metadata": {},
   "source": [
    "## Built in data types"
   ]
  },
  {
   "cell_type": "markdown",
   "id": "bac85921",
   "metadata": {},
   "source": [
    "4 built-in data types in Python used to store collections"
   ]
  },
  {
   "cell_type": "markdown",
   "id": "a01f3697",
   "metadata": {},
   "source": [
    "### 1. Lists"
   ]
  },
  {
   "cell_type": "code",
   "execution_count": 5,
   "id": "1f62e978",
   "metadata": {},
   "outputs": [],
   "source": [
    "fruits = ['Apple', 'mango', 'banana','grapes']"
   ]
  },
  {
   "cell_type": "code",
   "execution_count": 6,
   "id": "bf513320",
   "metadata": {},
   "outputs": [
    {
     "name": "stdout",
     "output_type": "stream",
     "text": [
      "['Apple', 'mango', 'banana', 'grapes']\n"
     ]
    }
   ],
   "source": [
    "print(fruits)"
   ]
  },
  {
   "cell_type": "code",
   "execution_count": 7,
   "id": "ec970388",
   "metadata": {
    "scrolled": true
   },
   "outputs": [
    {
     "data": {
      "text/plain": [
       "list"
      ]
     },
     "execution_count": 7,
     "metadata": {},
     "output_type": "execute_result"
    }
   ],
   "source": [
    "type(fruits)"
   ]
  },
  {
   "cell_type": "code",
   "execution_count": 8,
   "id": "24018abb",
   "metadata": {},
   "outputs": [
    {
     "data": {
      "text/plain": [
       "'Apple'"
      ]
     },
     "execution_count": 8,
     "metadata": {},
     "output_type": "execute_result"
    }
   ],
   "source": [
    "fruits[0]  #get first item from the list"
   ]
  },
  {
   "cell_type": "code",
   "execution_count": 9,
   "id": "da14c10c",
   "metadata": {},
   "outputs": [
    {
     "data": {
      "text/plain": [
       "'grapes'"
      ]
     },
     "execution_count": 9,
     "metadata": {},
     "output_type": "execute_result"
    }
   ],
   "source": [
    "fruits[-1]  # grt last item from list"
   ]
  },
  {
   "cell_type": "code",
   "execution_count": 10,
   "id": "1d6cb623",
   "metadata": {},
   "outputs": [
    {
     "name": "stdout",
     "output_type": "stream",
     "text": [
      "Apple\n",
      "mango\n",
      "banana\n",
      "grapes\n"
     ]
    }
   ],
   "source": [
    "for fruit in fruits:\n",
    "    print(fruit)"
   ]
  },
  {
   "cell_type": "code",
   "execution_count": 11,
   "id": "fcec99b9",
   "metadata": {},
   "outputs": [],
   "source": [
    "fruits.append('Cherry') # adding item in the list"
   ]
  },
  {
   "cell_type": "code",
   "execution_count": 12,
   "id": "73b28a83",
   "metadata": {},
   "outputs": [
    {
     "data": {
      "text/plain": [
       "['Apple', 'mango', 'banana', 'grapes', 'Cherry']"
      ]
     },
     "execution_count": 12,
     "metadata": {},
     "output_type": "execute_result"
    }
   ],
   "source": [
    "fruits"
   ]
  },
  {
   "cell_type": "code",
   "execution_count": 13,
   "id": "ef426aed",
   "metadata": {},
   "outputs": [],
   "source": [
    "## NUMERICAL LIST"
   ]
  },
  {
   "cell_type": "code",
   "execution_count": 14,
   "id": "2cd6ebf6",
   "metadata": {},
   "outputs": [],
   "source": [
    "squares = []"
   ]
  },
  {
   "cell_type": "code",
   "execution_count": 15,
   "id": "07748934",
   "metadata": {},
   "outputs": [
    {
     "data": {
      "text/plain": [
       "[]"
      ]
     },
     "execution_count": 15,
     "metadata": {},
     "output_type": "execute_result"
    }
   ],
   "source": [
    "squares"
   ]
  },
  {
   "cell_type": "code",
   "execution_count": 16,
   "id": "c4f94a51",
   "metadata": {},
   "outputs": [],
   "source": [
    "for x in range(1,11):\n",
    "    squares.append(x**2)"
   ]
  },
  {
   "cell_type": "code",
   "execution_count": 17,
   "id": "92f0286d",
   "metadata": {},
   "outputs": [
    {
     "data": {
      "text/plain": [
       "[1, 4, 9, 16, 25, 36, 49, 64, 81, 100]"
      ]
     },
     "execution_count": 17,
     "metadata": {},
     "output_type": "execute_result"
    }
   ],
   "source": [
    "squares"
   ]
  },
  {
   "cell_type": "code",
   "execution_count": 18,
   "id": "d6992186",
   "metadata": {},
   "outputs": [],
   "source": [
    "## list Comprehensions"
   ]
  },
  {
   "cell_type": "code",
   "execution_count": 19,
   "id": "e9ecd805",
   "metadata": {},
   "outputs": [],
   "source": [
    "squares = [x*2 for x in range(1,11)]"
   ]
  },
  {
   "cell_type": "code",
   "execution_count": 20,
   "id": "85caa4b4",
   "metadata": {},
   "outputs": [
    {
     "data": {
      "text/plain": [
       "[2, 4, 6, 8, 10, 12, 14, 16, 18, 20]"
      ]
     },
     "execution_count": 20,
     "metadata": {},
     "output_type": "execute_result"
    }
   ],
   "source": [
    "squares"
   ]
  },
  {
   "cell_type": "code",
   "execution_count": 21,
   "id": "2da48276",
   "metadata": {},
   "outputs": [],
   "source": [
    "## List Slicing "
   ]
  },
  {
   "cell_type": "code",
   "execution_count": 22,
   "id": "031f0690",
   "metadata": {},
   "outputs": [],
   "source": [
    "a = squares[2:-2]"
   ]
  },
  {
   "cell_type": "code",
   "execution_count": 23,
   "id": "5fa94d38",
   "metadata": {},
   "outputs": [
    {
     "data": {
      "text/plain": [
       "[6, 8, 10, 12, 14, 16]"
      ]
     },
     "execution_count": 23,
     "metadata": {},
     "output_type": "execute_result"
    }
   ],
   "source": [
    "a"
   ]
  },
  {
   "cell_type": "code",
   "execution_count": 24,
   "id": "e749f362",
   "metadata": {},
   "outputs": [],
   "source": [
    "## Copying list "
   ]
  },
  {
   "cell_type": "code",
   "execution_count": 25,
   "id": "dd6495ac",
   "metadata": {},
   "outputs": [],
   "source": [
    "b = a[:]"
   ]
  },
  {
   "cell_type": "code",
   "execution_count": 26,
   "id": "b727c4d6",
   "metadata": {},
   "outputs": [
    {
     "data": {
      "text/plain": [
       "[6, 8, 10, 12, 14, 16]"
      ]
     },
     "execution_count": 26,
     "metadata": {},
     "output_type": "execute_result"
    }
   ],
   "source": [
    "b"
   ]
  },
  {
   "cell_type": "markdown",
   "id": "616aab59",
   "metadata": {},
   "source": [
    "### 2. Tuple"
   ]
  },
  {
   "cell_type": "markdown",
   "id": "16e44996",
   "metadata": {},
   "source": [
    "Tuple items are ordered, unchangeable, and allow duplicate values.\n",
    "Tuple items are indexed, the first item has index [0], the second item has index [1] etc."
   ]
  },
  {
   "cell_type": "code",
   "execution_count": 27,
   "id": "36cfd7ca",
   "metadata": {},
   "outputs": [],
   "source": [
    "tuplee = ('q','w','e','r','t','y')"
   ]
  },
  {
   "cell_type": "code",
   "execution_count": 28,
   "id": "e4889ba8",
   "metadata": {},
   "outputs": [
    {
     "data": {
      "text/plain": [
       "('q', 'w', 'e', 'r', 't', 'y')"
      ]
     },
     "execution_count": 28,
     "metadata": {},
     "output_type": "execute_result"
    }
   ],
   "source": [
    "tuplee"
   ]
  },
  {
   "cell_type": "code",
   "execution_count": 29,
   "id": "352ed3f0",
   "metadata": {},
   "outputs": [
    {
     "data": {
      "text/plain": [
       "tuple"
      ]
     },
     "execution_count": 29,
     "metadata": {},
     "output_type": "execute_result"
    }
   ],
   "source": [
    "type(tuplee)"
   ]
  },
  {
   "cell_type": "code",
   "execution_count": 30,
   "id": "237ada6f",
   "metadata": {},
   "outputs": [
    {
     "ename": "AttributeError",
     "evalue": "'tuple' object has no attribute 'append'",
     "output_type": "error",
     "traceback": [
      "\u001b[1;31m---------------------------------------------------------------------------\u001b[0m",
      "\u001b[1;31mAttributeError\u001b[0m                            Traceback (most recent call last)",
      "\u001b[1;32m<ipython-input-30-9f1ce657ed80>\u001b[0m in \u001b[0;36m<module>\u001b[1;34m\u001b[0m\n\u001b[1;32m----> 1\u001b[1;33m \u001b[0mtuplee\u001b[0m\u001b[1;33m.\u001b[0m\u001b[0mappend\u001b[0m\u001b[1;33m(\u001b[0m\u001b[1;34m'a'\u001b[0m\u001b[1;33m)\u001b[0m\u001b[1;33m\u001b[0m\u001b[1;33m\u001b[0m\u001b[0m\n\u001b[0m",
      "\u001b[1;31mAttributeError\u001b[0m: 'tuple' object has no attribute 'append'"
     ]
    }
   ],
   "source": [
    "tuplee.append('a')"
   ]
  },
  {
   "cell_type": "code",
   "execution_count": 31,
   "id": "cdd58c1b",
   "metadata": {},
   "outputs": [],
   "source": [
    "## check in lists"
   ]
  },
  {
   "cell_type": "code",
   "execution_count": 32,
   "id": "6e657bfe",
   "metadata": {},
   "outputs": [
    {
     "data": {
      "text/plain": [
       "False"
      ]
     },
     "execution_count": 32,
     "metadata": {},
     "output_type": "execute_result"
    }
   ],
   "source": [
    "'apple'in fruits ## case sensitive"
   ]
  },
  {
   "cell_type": "code",
   "execution_count": 33,
   "id": "3ef413fd",
   "metadata": {},
   "outputs": [],
   "source": [
    "## Boolean value"
   ]
  },
  {
   "cell_type": "code",
   "execution_count": 34,
   "id": "1d5bb81c",
   "metadata": {},
   "outputs": [],
   "source": [
    "flag = True"
   ]
  },
  {
   "cell_type": "code",
   "execution_count": 35,
   "id": "fccca53a",
   "metadata": {},
   "outputs": [
    {
     "name": "stdout",
     "output_type": "stream",
     "text": [
      "Success\n"
     ]
    }
   ],
   "source": [
    "if flag:\n",
    "    print(\"Success\")"
   ]
  },
  {
   "cell_type": "markdown",
   "id": "85687f49",
   "metadata": {},
   "source": [
    "### 3. Sets"
   ]
  },
  {
   "cell_type": "markdown",
   "id": "d4c4f9bc",
   "metadata": {},
   "source": [
    "A set is a collection which is unordered, unchangeable*, and unindexed.\n",
    "* Note: Set items are unchangeable, but you can remove items and add new items."
   ]
  },
  {
   "cell_type": "code",
   "execution_count": 36,
   "id": "47d9a23f",
   "metadata": {},
   "outputs": [],
   "source": [
    "myset = {'aaa', 'bbb', 'ccc', 'ddd'}"
   ]
  },
  {
   "cell_type": "code",
   "execution_count": 37,
   "id": "0a7979d4",
   "metadata": {},
   "outputs": [
    {
     "data": {
      "text/plain": [
       "{'aaa', 'bbb', 'ccc', 'ddd'}"
      ]
     },
     "execution_count": 37,
     "metadata": {},
     "output_type": "execute_result"
    }
   ],
   "source": [
    "myset"
   ]
  },
  {
   "cell_type": "code",
   "execution_count": 38,
   "id": "5e8ec73f",
   "metadata": {},
   "outputs": [],
   "source": [
    "myset = {'aaa', 'bbb', 'ccc', 'ddd', 'aaa'} # duplicates not allowed"
   ]
  },
  {
   "cell_type": "code",
   "execution_count": 39,
   "id": "257108d9",
   "metadata": {},
   "outputs": [
    {
     "data": {
      "text/plain": [
       "{'aaa', 'bbb', 'ccc', 'ddd'}"
      ]
     },
     "execution_count": 39,
     "metadata": {},
     "output_type": "execute_result"
    }
   ],
   "source": [
    "myset # duplicates will be ignored."
   ]
  },
  {
   "cell_type": "markdown",
   "id": "7a90f43b",
   "metadata": {},
   "source": [
    "You cannot access items in a set by referring to an index or a key.\n",
    "\n",
    "But you can loop through the set items using a for loop, or ask if a specified value is present in a set, by using the in keyword."
   ]
  },
  {
   "cell_type": "code",
   "execution_count": 40,
   "id": "abc42f2a",
   "metadata": {},
   "outputs": [
    {
     "name": "stdout",
     "output_type": "stream",
     "text": [
      "ddd\n",
      "ccc\n",
      "aaa\n",
      "bbb\n"
     ]
    }
   ],
   "source": [
    "for a in myset:\n",
    "    print(a)"
   ]
  },
  {
   "cell_type": "code",
   "execution_count": 41,
   "id": "a39b703b",
   "metadata": {},
   "outputs": [],
   "source": [
    "#Check if \"banana\" is present in the set:"
   ]
  },
  {
   "cell_type": "code",
   "execution_count": 42,
   "id": "abab2665",
   "metadata": {},
   "outputs": [
    {
     "data": {
      "text/plain": [
       "True"
      ]
     },
     "execution_count": 42,
     "metadata": {},
     "output_type": "execute_result"
    }
   ],
   "source": [
    "'aaa' in myset"
   ]
  },
  {
   "cell_type": "code",
   "execution_count": 43,
   "id": "ac313d2c",
   "metadata": {},
   "outputs": [
    {
     "data": {
      "text/plain": [
       "False"
      ]
     },
     "execution_count": 43,
     "metadata": {},
     "output_type": "execute_result"
    }
   ],
   "source": [
    "'fff' in myset"
   ]
  },
  {
   "cell_type": "code",
   "execution_count": 44,
   "id": "67867bab",
   "metadata": {},
   "outputs": [],
   "source": [
    "# Adding new item to set using add()"
   ]
  },
  {
   "cell_type": "code",
   "execution_count": 45,
   "id": "06145a4a",
   "metadata": {},
   "outputs": [],
   "source": [
    "myset.add('eee')"
   ]
  },
  {
   "cell_type": "code",
   "execution_count": 46,
   "id": "53d2e587",
   "metadata": {},
   "outputs": [
    {
     "data": {
      "text/plain": [
       "{'aaa', 'bbb', 'ccc', 'ddd', 'eee'}"
      ]
     },
     "execution_count": 46,
     "metadata": {},
     "output_type": "execute_result"
    }
   ],
   "source": [
    "myset"
   ]
  },
  {
   "cell_type": "code",
   "execution_count": 47,
   "id": "d53f19cf",
   "metadata": {},
   "outputs": [],
   "source": [
    "# Adding items from another set to myset use update()"
   ]
  },
  {
   "cell_type": "code",
   "execution_count": 48,
   "id": "a23cd3d1",
   "metadata": {},
   "outputs": [],
   "source": [
    "set2 = {\"Apple\", 'Ball', 'cat', ' dog'}"
   ]
  },
  {
   "cell_type": "code",
   "execution_count": 49,
   "id": "b9372727",
   "metadata": {},
   "outputs": [],
   "source": [
    "myset.update(set2)"
   ]
  },
  {
   "cell_type": "code",
   "execution_count": 50,
   "id": "a824d6bb",
   "metadata": {},
   "outputs": [
    {
     "data": {
      "text/plain": [
       "{' dog', 'Apple', 'Ball', 'aaa', 'bbb', 'cat', 'ccc', 'ddd', 'eee'}"
      ]
     },
     "execution_count": 50,
     "metadata": {},
     "output_type": "execute_result"
    }
   ],
   "source": [
    "myset"
   ]
  },
  {
   "cell_type": "markdown",
   "id": "b26f07c1",
   "metadata": {},
   "source": [
    "The object in the update() method does not have to be a set, it can be any iterable object (tuples, lists, dictionaries etc.).\n",
    "\n"
   ]
  },
  {
   "cell_type": "code",
   "execution_count": 51,
   "id": "695f9a20",
   "metadata": {},
   "outputs": [],
   "source": [
    "listt = ['asd','afsf']"
   ]
  },
  {
   "cell_type": "code",
   "execution_count": 52,
   "id": "a26d0f18",
   "metadata": {},
   "outputs": [],
   "source": [
    "myset.update(listt)"
   ]
  },
  {
   "cell_type": "code",
   "execution_count": 53,
   "id": "eb85058b",
   "metadata": {},
   "outputs": [
    {
     "data": {
      "text/plain": [
       "{' dog',\n",
       " 'Apple',\n",
       " 'Ball',\n",
       " 'aaa',\n",
       " 'afsf',\n",
       " 'asd',\n",
       " 'bbb',\n",
       " 'cat',\n",
       " 'ccc',\n",
       " 'ddd',\n",
       " 'eee'}"
      ]
     },
     "execution_count": 53,
     "metadata": {},
     "output_type": "execute_result"
    }
   ],
   "source": [
    "myset"
   ]
  },
  {
   "cell_type": "code",
   "execution_count": 54,
   "id": "c6c154ff",
   "metadata": {},
   "outputs": [],
   "source": [
    "# Removing item from set using remove() or discard("
   ]
  },
  {
   "cell_type": "code",
   "execution_count": 55,
   "id": "ff1a4d15",
   "metadata": {},
   "outputs": [],
   "source": [
    "myset.remove('afsf')"
   ]
  },
  {
   "cell_type": "code",
   "execution_count": 56,
   "id": "786e43f7",
   "metadata": {},
   "outputs": [
    {
     "data": {
      "text/plain": [
       "{' dog', 'Apple', 'Ball', 'aaa', 'asd', 'bbb', 'cat', 'ccc', 'ddd', 'eee'}"
      ]
     },
     "execution_count": 56,
     "metadata": {},
     "output_type": "execute_result"
    }
   ],
   "source": [
    "myset"
   ]
  },
  {
   "cell_type": "code",
   "execution_count": 57,
   "id": "d4ee1852",
   "metadata": {},
   "outputs": [
    {
     "ename": "KeyError",
     "evalue": "'qwert'",
     "output_type": "error",
     "traceback": [
      "\u001b[1;31m---------------------------------------------------------------------------\u001b[0m",
      "\u001b[1;31mKeyError\u001b[0m                                  Traceback (most recent call last)",
      "\u001b[1;32m<ipython-input-57-e4c424f2f295>\u001b[0m in \u001b[0;36m<module>\u001b[1;34m\u001b[0m\n\u001b[1;32m----> 1\u001b[1;33m \u001b[0mmyset\u001b[0m\u001b[1;33m.\u001b[0m\u001b[0mremove\u001b[0m\u001b[1;33m(\u001b[0m\u001b[1;34m'qwert'\u001b[0m\u001b[1;33m)\u001b[0m \u001b[1;31m# Note: If the item to remove does not exist, remove() will raise an error.\u001b[0m\u001b[1;33m\u001b[0m\u001b[1;33m\u001b[0m\u001b[0m\n\u001b[0m",
      "\u001b[1;31mKeyError\u001b[0m: 'qwert'"
     ]
    }
   ],
   "source": [
    "myset.remove('qwert') # Note: If the item to remove does not exist, remove() will raise an error."
   ]
  },
  {
   "cell_type": "code",
   "execution_count": 58,
   "id": "9f8aba11",
   "metadata": {},
   "outputs": [],
   "source": [
    "# remove elemnet using discard()"
   ]
  },
  {
   "cell_type": "code",
   "execution_count": 59,
   "id": "03748cbe",
   "metadata": {},
   "outputs": [],
   "source": [
    "myset.discard('aaa')"
   ]
  },
  {
   "cell_type": "code",
   "execution_count": 60,
   "id": "79fa7aa6",
   "metadata": {},
   "outputs": [
    {
     "data": {
      "text/plain": [
       "{' dog', 'Apple', 'Ball', 'asd', 'bbb', 'cat', 'ccc', 'ddd', 'eee'}"
      ]
     },
     "execution_count": 60,
     "metadata": {},
     "output_type": "execute_result"
    }
   ],
   "source": [
    "myset"
   ]
  },
  {
   "cell_type": "code",
   "execution_count": 61,
   "id": "83ea8d68",
   "metadata": {},
   "outputs": [],
   "source": [
    "myset.discard('qwerty') # Note: If the item to remove does not exist, discard() will NOT raise an error."
   ]
  },
  {
   "cell_type": "code",
   "execution_count": 62,
   "id": "1ad63523",
   "metadata": {},
   "outputs": [],
   "source": [
    "# removing element using pop()\n",
    "# pop()  removes last element\n",
    "# Note: Sets are unordered, so when using the pop() method, you do not know which item that gets removed."
   ]
  },
  {
   "cell_type": "code",
   "execution_count": 63,
   "id": "68018125",
   "metadata": {},
   "outputs": [
    {
     "data": {
      "text/plain": [
       "'ddd'"
      ]
     },
     "execution_count": 63,
     "metadata": {},
     "output_type": "execute_result"
    }
   ],
   "source": [
    "myset.pop()"
   ]
  },
  {
   "cell_type": "code",
   "execution_count": 64,
   "id": "cc0e933a",
   "metadata": {},
   "outputs": [],
   "source": [
    "# clear() clears the set"
   ]
  },
  {
   "cell_type": "code",
   "execution_count": 65,
   "id": "aced9b4d",
   "metadata": {},
   "outputs": [],
   "source": [
    "myset.clear()"
   ]
  },
  {
   "cell_type": "code",
   "execution_count": 66,
   "id": "250db7dd",
   "metadata": {},
   "outputs": [
    {
     "data": {
      "text/plain": [
       "set()"
      ]
     },
     "execution_count": 66,
     "metadata": {},
     "output_type": "execute_result"
    }
   ],
   "source": [
    "myset"
   ]
  },
  {
   "cell_type": "code",
   "execution_count": 67,
   "id": "3b29846e",
   "metadata": {},
   "outputs": [],
   "source": [
    "# The del keyword will delete the set completely"
   ]
  },
  {
   "cell_type": "code",
   "execution_count": 68,
   "id": "232b82e6",
   "metadata": {},
   "outputs": [],
   "source": [
    "del myset"
   ]
  },
  {
   "cell_type": "code",
   "execution_count": 69,
   "id": "58fe73f6",
   "metadata": {},
   "outputs": [
    {
     "ename": "NameError",
     "evalue": "name 'myset' is not defined",
     "output_type": "error",
     "traceback": [
      "\u001b[1;31m---------------------------------------------------------------------------\u001b[0m",
      "\u001b[1;31mNameError\u001b[0m                                 Traceback (most recent call last)",
      "\u001b[1;32m<ipython-input-69-ca7b0577f5c8>\u001b[0m in \u001b[0;36m<module>\u001b[1;34m\u001b[0m\n\u001b[1;32m----> 1\u001b[1;33m \u001b[0mmyset\u001b[0m \u001b[1;31m# myset does not exist anymore\u001b[0m\u001b[1;33m\u001b[0m\u001b[1;33m\u001b[0m\u001b[0m\n\u001b[0m",
      "\u001b[1;31mNameError\u001b[0m: name 'myset' is not defined"
     ]
    }
   ],
   "source": [
    "myset # myset does not exist anymore"
   ]
  },
  {
   "cell_type": "code",
   "execution_count": 72,
   "id": "505daccc",
   "metadata": {},
   "outputs": [],
   "source": [
    "# Looping set"
   ]
  },
  {
   "cell_type": "code",
   "execution_count": 73,
   "id": "ef8b7b33",
   "metadata": {},
   "outputs": [
    {
     "name": "stdout",
     "output_type": "stream",
     "text": [
      "banana\n",
      "cherry\n",
      "apple\n"
     ]
    }
   ],
   "source": [
    "thisset = {\"apple\", \"banana\", \"cherry\"}\n",
    "\n",
    "for x in thisset:\n",
    "    print(x)"
   ]
  },
  {
   "cell_type": "code",
   "execution_count": 74,
   "id": "458a3d96",
   "metadata": {},
   "outputs": [],
   "source": [
    "# joing set using union() , update()"
   ]
  },
  {
   "cell_type": "code",
   "execution_count": 75,
   "id": "635be921",
   "metadata": {},
   "outputs": [],
   "source": [
    "myset = {'aaa', 'bbb', 'ccc'}"
   ]
  },
  {
   "cell_type": "code",
   "execution_count": 76,
   "id": "8cef34fe",
   "metadata": {},
   "outputs": [],
   "source": [
    "set2= {'sfsdf', 'fsfrf','aaa'}"
   ]
  },
  {
   "cell_type": "code",
   "execution_count": 77,
   "id": "263a523d",
   "metadata": {},
   "outputs": [
    {
     "data": {
      "text/plain": [
       "{'aaa', 'bbb', 'ccc', 'fsfrf', 'sfsdf'}"
      ]
     },
     "execution_count": 77,
     "metadata": {},
     "output_type": "execute_result"
    }
   ],
   "source": [
    "myset.union(set2) "
   ]
  },
  {
   "cell_type": "code",
   "execution_count": 78,
   "id": "a33da9f6",
   "metadata": {},
   "outputs": [
    {
     "data": {
      "text/plain": [
       "{'aaa', 'bbb', 'ccc'}"
      ]
     },
     "execution_count": 78,
     "metadata": {},
     "output_type": "execute_result"
    }
   ],
   "source": [
    "myset    # The union() method returns a new set with all items from both sets, therefore myset not updated"
   ]
  },
  {
   "cell_type": "code",
   "execution_count": 79,
   "id": "b09d987f",
   "metadata": {},
   "outputs": [
    {
     "data": {
      "text/plain": [
       "{'aaa', 'bbb', 'ccc', 'fsfrf', 'sfsdf'}"
      ]
     },
     "execution_count": 79,
     "metadata": {},
     "output_type": "execute_result"
    }
   ],
   "source": [
    "myset3 = myset.union(set2)\n",
    "myset3"
   ]
  },
  {
   "cell_type": "code",
   "execution_count": 80,
   "id": "66b01b51",
   "metadata": {},
   "outputs": [],
   "source": [
    "# The update() method inserts the items in set2 into set1:"
   ]
  },
  {
   "cell_type": "code",
   "execution_count": 81,
   "id": "8b2fe8e2",
   "metadata": {},
   "outputs": [
    {
     "data": {
      "text/plain": [
       "{'aaa', 'bbb', 'ccc', 'fsfrf', 'sfsdf'}"
      ]
     },
     "execution_count": 81,
     "metadata": {},
     "output_type": "execute_result"
    }
   ],
   "source": [
    "myset.update(set2)\n",
    "myset"
   ]
  },
  {
   "cell_type": "markdown",
   "id": "9fdae234",
   "metadata": {},
   "source": [
    "Note: Both union() and update() will exclude any duplicate items."
   ]
  },
  {
   "cell_type": "code",
   "execution_count": 82,
   "id": "cee0d8c5",
   "metadata": {},
   "outputs": [],
   "source": [
    "# Keep ONLY the Duplicates"
   ]
  },
  {
   "cell_type": "markdown",
   "id": "921d3b77",
   "metadata": {},
   "source": [
    "### The intersection_update() method will keep only the items that are present in both sets.\n",
    "Keep the items that exist in both set x, and set y"
   ]
  },
  {
   "cell_type": "code",
   "execution_count": 83,
   "id": "9b20b81e",
   "metadata": {},
   "outputs": [
    {
     "name": "stdout",
     "output_type": "stream",
     "text": [
      "{'apple'}\n"
     ]
    }
   ],
   "source": [
    "x = {\"apple\", \"banana\", \"cherry\"}\n",
    "y = {\"google\", \"microsoft\", \"apple\"}\n",
    "\n",
    "x.intersection_update(y)\n",
    "\n",
    "print(x)"
   ]
  },
  {
   "cell_type": "code",
   "execution_count": 84,
   "id": "c9fef529",
   "metadata": {},
   "outputs": [],
   "source": [
    "# The intersection() method will return a new set, that only contains the items that are present in both sets."
   ]
  },
  {
   "cell_type": "markdown",
   "id": "3d437aad",
   "metadata": {},
   "source": [
    "### Return a set that contains the items that exist in both set x, and set y"
   ]
  },
  {
   "cell_type": "code",
   "execution_count": 85,
   "id": "957b774a",
   "metadata": {},
   "outputs": [
    {
     "name": "stdout",
     "output_type": "stream",
     "text": [
      "{'apple'}\n"
     ]
    }
   ],
   "source": [
    "x = {\"apple\", \"banana\", \"cherry\"}\n",
    "y = {\"google\", \"microsoft\", \"apple\"}\n",
    "\n",
    "z = x.intersection(y)\n",
    "\n",
    "print(z)"
   ]
  },
  {
   "cell_type": "markdown",
   "id": "c0d0b665",
   "metadata": {},
   "source": [
    "### 4. Dictionary (key:value)"
   ]
  },
  {
   "cell_type": "code",
   "execution_count": 86,
   "id": "5460f785",
   "metadata": {},
   "outputs": [],
   "source": [
    "#A dictionary is a collection which is ordered*, changeable and do not allow duplicates."
   ]
  },
  {
   "cell_type": "code",
   "execution_count": 87,
   "id": "d0f2bfe6",
   "metadata": {},
   "outputs": [],
   "source": [
    "dict1 = {'name': 'Bhagyashri',\n",
    "        'age':27,\n",
    "        'sex': 'F',\n",
    "        'IsEmployed': True}"
   ]
  },
  {
   "cell_type": "code",
   "execution_count": 88,
   "id": "acf75729",
   "metadata": {},
   "outputs": [
    {
     "data": {
      "text/plain": [
       "{'name': 'Bhagyashri', 'age': 27, 'sex': 'F', 'IsEmployed': True}"
      ]
     },
     "execution_count": 88,
     "metadata": {},
     "output_type": "execute_result"
    }
   ],
   "source": [
    "dict1"
   ]
  },
  {
   "cell_type": "code",
   "execution_count": 89,
   "id": "536155d6",
   "metadata": {},
   "outputs": [],
   "source": [
    "dict1 = {'name': 'Bhagyashri',\n",
    "        'age':27,\n",
    "        'sex': 'F',\n",
    "        'name': 'Bhosale'}"
   ]
  },
  {
   "cell_type": "code",
   "execution_count": 90,
   "id": "c02e3057",
   "metadata": {},
   "outputs": [
    {
     "data": {
      "text/plain": [
       "{'name': 'Bhosale', 'age': 27, 'sex': 'F'}"
      ]
     },
     "execution_count": 90,
     "metadata": {},
     "output_type": "execute_result"
    }
   ],
   "source": [
    "dict1 # duplicates are not allowed, last occurance is considered"
   ]
  },
  {
   "cell_type": "code",
   "execution_count": 91,
   "id": "24fc027d",
   "metadata": {},
   "outputs": [
    {
     "data": {
      "text/plain": [
       "3"
      ]
     },
     "execution_count": 91,
     "metadata": {},
     "output_type": "execute_result"
    }
   ],
   "source": [
    "len(dict1)"
   ]
  },
  {
   "cell_type": "code",
   "execution_count": 92,
   "id": "62c52d7a",
   "metadata": {},
   "outputs": [],
   "source": [
    "# accessing dict elements"
   ]
  },
  {
   "cell_type": "code",
   "execution_count": 93,
   "id": "23ce43ce",
   "metadata": {},
   "outputs": [
    {
     "data": {
      "text/plain": [
       "'Bhosale'"
      ]
     },
     "execution_count": 93,
     "metadata": {},
     "output_type": "execute_result"
    }
   ],
   "source": [
    "dict1['name']"
   ]
  },
  {
   "cell_type": "code",
   "execution_count": 94,
   "id": "45d5586e",
   "metadata": {},
   "outputs": [
    {
     "data": {
      "text/plain": [
       "'Bhosale'"
      ]
     },
     "execution_count": 94,
     "metadata": {},
     "output_type": "execute_result"
    }
   ],
   "source": [
    "dict1.get('name')"
   ]
  },
  {
   "cell_type": "code",
   "execution_count": 95,
   "id": "e053a535",
   "metadata": {},
   "outputs": [
    {
     "data": {
      "text/plain": [
       "dict_keys(['name', 'age', 'sex'])"
      ]
     },
     "execution_count": 95,
     "metadata": {},
     "output_type": "execute_result"
    }
   ],
   "source": [
    "dict1.keys()"
   ]
  },
  {
   "cell_type": "code",
   "execution_count": 96,
   "id": "14c6c641",
   "metadata": {},
   "outputs": [],
   "source": [
    "dict1['salary'] = 10000"
   ]
  },
  {
   "cell_type": "code",
   "execution_count": 97,
   "id": "b1c03bfd",
   "metadata": {},
   "outputs": [
    {
     "data": {
      "text/plain": [
       "{'name': 'Bhosale', 'age': 27, 'sex': 'F', 'salary': 10000}"
      ]
     },
     "execution_count": 97,
     "metadata": {},
     "output_type": "execute_result"
    }
   ],
   "source": [
    "dict1"
   ]
  },
  {
   "cell_type": "code",
   "execution_count": 98,
   "id": "465be368",
   "metadata": {},
   "outputs": [
    {
     "data": {
      "text/plain": [
       "dict_values(['Bhosale', 27, 'F', 10000])"
      ]
     },
     "execution_count": 98,
     "metadata": {},
     "output_type": "execute_result"
    }
   ],
   "source": [
    "dict1.values()"
   ]
  },
  {
   "cell_type": "code",
   "execution_count": 99,
   "id": "c04800ec",
   "metadata": {},
   "outputs": [],
   "source": [
    "# The items() method will return each item in a dictionary, as tuples in a list."
   ]
  },
  {
   "cell_type": "code",
   "execution_count": 100,
   "id": "8e03faa8",
   "metadata": {},
   "outputs": [
    {
     "data": {
      "text/plain": [
       "dict_items([('name', 'Bhosale'), ('age', 27), ('sex', 'F'), ('salary', 10000)])"
      ]
     },
     "execution_count": 100,
     "metadata": {},
     "output_type": "execute_result"
    }
   ],
   "source": [
    "dict1.items()"
   ]
  },
  {
   "cell_type": "code",
   "execution_count": 101,
   "id": "e8800618",
   "metadata": {},
   "outputs": [
    {
     "name": "stdout",
     "output_type": "stream",
     "text": [
      "True\n"
     ]
    }
   ],
   "source": [
    "if 'age' in dict1:\n",
    "    print(True)"
   ]
  },
  {
   "cell_type": "code",
   "execution_count": 102,
   "id": "0b3f1608",
   "metadata": {},
   "outputs": [],
   "source": [
    "dict1['age'] = 25"
   ]
  },
  {
   "cell_type": "code",
   "execution_count": 103,
   "id": "69c2fc8f",
   "metadata": {},
   "outputs": [
    {
     "data": {
      "text/plain": [
       "{'name': 'Bhosale', 'age': 25, 'sex': 'F', 'salary': 10000}"
      ]
     },
     "execution_count": 103,
     "metadata": {},
     "output_type": "execute_result"
    }
   ],
   "source": [
    "dict1"
   ]
  },
  {
   "cell_type": "code",
   "execution_count": 104,
   "id": "8325b1d7",
   "metadata": {},
   "outputs": [],
   "source": [
    "dict1.update({'age':27})"
   ]
  },
  {
   "cell_type": "code",
   "execution_count": 105,
   "id": "35e61af6",
   "metadata": {},
   "outputs": [
    {
     "data": {
      "text/plain": [
       "{'name': 'Bhosale', 'age': 27, 'sex': 'F', 'salary': 10000}"
      ]
     },
     "execution_count": 105,
     "metadata": {},
     "output_type": "execute_result"
    }
   ],
   "source": [
    "dict1"
   ]
  },
  {
   "cell_type": "code",
   "execution_count": 106,
   "id": "f0253179",
   "metadata": {},
   "outputs": [],
   "source": [
    "# Removing items from dictionary"
   ]
  },
  {
   "cell_type": "code",
   "execution_count": 107,
   "id": "4609e8b7",
   "metadata": {},
   "outputs": [
    {
     "data": {
      "text/plain": [
       "27"
      ]
     },
     "execution_count": 107,
     "metadata": {},
     "output_type": "execute_result"
    }
   ],
   "source": [
    "dict1.pop(\"age\")"
   ]
  },
  {
   "cell_type": "code",
   "execution_count": 108,
   "id": "fad341d9",
   "metadata": {},
   "outputs": [
    {
     "data": {
      "text/plain": [
       "{'name': 'Bhosale', 'sex': 'F', 'salary': 10000}"
      ]
     },
     "execution_count": 108,
     "metadata": {},
     "output_type": "execute_result"
    }
   ],
   "source": [
    "dict1"
   ]
  },
  {
   "cell_type": "code",
   "execution_count": 109,
   "id": "229fe242",
   "metadata": {},
   "outputs": [],
   "source": [
    "# The popitem() method removes the last inserted item (in versions before 3.7, a random item is removed instead):"
   ]
  },
  {
   "cell_type": "code",
   "execution_count": 110,
   "id": "a97c2f13",
   "metadata": {},
   "outputs": [
    {
     "data": {
      "text/plain": [
       "('salary', 10000)"
      ]
     },
     "execution_count": 110,
     "metadata": {},
     "output_type": "execute_result"
    }
   ],
   "source": [
    "dict1.popitem() "
   ]
  },
  {
   "cell_type": "code",
   "execution_count": 111,
   "id": "05480016",
   "metadata": {},
   "outputs": [],
   "source": [
    "# The del keyword removes the item with the specified key name:"
   ]
  },
  {
   "cell_type": "code",
   "execution_count": 112,
   "id": "01103cb7",
   "metadata": {},
   "outputs": [],
   "source": [
    "del dict1['name']"
   ]
  },
  {
   "cell_type": "code",
   "execution_count": 113,
   "id": "846be9bc",
   "metadata": {},
   "outputs": [
    {
     "data": {
      "text/plain": [
       "{'sex': 'F'}"
      ]
     },
     "execution_count": 113,
     "metadata": {},
     "output_type": "execute_result"
    }
   ],
   "source": [
    "dict1"
   ]
  },
  {
   "cell_type": "markdown",
   "id": "1ce5c6e9",
   "metadata": {},
   "source": [
    "The del keyword can also delete the dictionary completely:\n",
    "\n",
    "del dict1"
   ]
  },
  {
   "cell_type": "code",
   "execution_count": 114,
   "id": "61c9a917",
   "metadata": {},
   "outputs": [],
   "source": [
    "dict1.clear()"
   ]
  },
  {
   "cell_type": "code",
   "execution_count": 115,
   "id": "3a6e5982",
   "metadata": {},
   "outputs": [],
   "source": [
    "dict1 = {'name': 'Bhagyashri',\n",
    "        'age':27,\n",
    "        'sex': 'F',\n",
    "        'IsEmployed': True,\n",
    "        'Salary': 10000}"
   ]
  },
  {
   "cell_type": "code",
   "execution_count": 116,
   "id": "ac7894cd",
   "metadata": {},
   "outputs": [
    {
     "name": "stdout",
     "output_type": "stream",
     "text": [
      "name\n",
      "age\n",
      "sex\n",
      "IsEmployed\n",
      "Salary\n"
     ]
    }
   ],
   "source": [
    "for x in dict1:\n",
    "    print(x) # Print all key names in the dictionary, one by one:"
   ]
  },
  {
   "cell_type": "code",
   "execution_count": 117,
   "id": "c34dfc84",
   "metadata": {},
   "outputs": [
    {
     "name": "stdout",
     "output_type": "stream",
     "text": [
      "Bhagyashri\n",
      "27\n",
      "F\n",
      "True\n",
      "10000\n"
     ]
    }
   ],
   "source": [
    "# Print all values in the dictionary, one by one:\n",
    "for x in dict1:\n",
    "    print(dict1[x])"
   ]
  },
  {
   "cell_type": "code",
   "execution_count": 118,
   "id": "a98316f2",
   "metadata": {},
   "outputs": [
    {
     "name": "stdout",
     "output_type": "stream",
     "text": [
      "Bhagyashri\n",
      "27\n",
      "F\n",
      "True\n",
      "10000\n"
     ]
    }
   ],
   "source": [
    "#You can also use the values() method to return values of a dictionary:\n",
    "for x in dict1.values():\n",
    "    print(x)"
   ]
  },
  {
   "cell_type": "code",
   "execution_count": 119,
   "id": "1f2759b1",
   "metadata": {},
   "outputs": [
    {
     "name": "stdout",
     "output_type": "stream",
     "text": [
      "name\n",
      "age\n",
      "sex\n",
      "IsEmployed\n",
      "Salary\n"
     ]
    }
   ],
   "source": [
    "#You can use the keys() method to return the keys of a dictionary:\n",
    "for x in dict1.keys():\n",
    "    print(x)"
   ]
  },
  {
   "cell_type": "code",
   "execution_count": 120,
   "id": "8ac0699f",
   "metadata": {},
   "outputs": [
    {
     "name": "stdout",
     "output_type": "stream",
     "text": [
      "name : Bhagyashri\n",
      "age : 27\n",
      "sex : F\n",
      "IsEmployed : True\n",
      "Salary : 10000\n"
     ]
    }
   ],
   "source": [
    "# Loop through both keys and values, by using the items() method:\n",
    "for x,y in dict1.items():\n",
    "    print(x,\":\",y)"
   ]
  },
  {
   "cell_type": "markdown",
   "id": "c89d589b",
   "metadata": {},
   "source": [
    "Copy a Dictionary\n",
    "You cannot copy a dictionary simply by typing dict2 = dict1, because: dict2 will only be a reference to dict1, and changes made in dict1 will automatically also be made in dict2.\n",
    "\n",
    "There are ways to make a copy, one way is to use the built-in Dictionary method copy()"
   ]
  },
  {
   "cell_type": "code",
   "execution_count": 121,
   "id": "93426742",
   "metadata": {},
   "outputs": [],
   "source": [
    "dict2 = dict1 ## copies the reference, therefore, changes made in dict1 will be reflected in thd dict2 also "
   ]
  },
  {
   "cell_type": "code",
   "execution_count": 122,
   "id": "5fa632b0",
   "metadata": {},
   "outputs": [],
   "source": [
    "# Make a copy of a dictionary with the copy() method:\n",
    "dict2 = dict1.copy()"
   ]
  },
  {
   "cell_type": "code",
   "execution_count": 123,
   "id": "cc884aea",
   "metadata": {},
   "outputs": [],
   "source": [
    "# Make a copy of a dictionary with the dict() function:\n",
    "dict3 = dict(dict1)"
   ]
  },
  {
   "cell_type": "markdown",
   "id": "cba119ef",
   "metadata": {},
   "source": [
    "#### Nested Dictionary"
   ]
  },
  {
   "cell_type": "code",
   "execution_count": 124,
   "id": "8883bce6",
   "metadata": {},
   "outputs": [],
   "source": [
    "myfamily = {\n",
    "  \"child1\" : {\n",
    "    \"name\" : \"Emil\",\n",
    "    \"year\" : 2004\n",
    "  },\n",
    "  \"child2\" : {\n",
    "    \"name\" : \"Tobias\",\n",
    "    \"year\" : 2007\n",
    "  },\n",
    "  \"child3\" : {\n",
    "    \"name\" : \"Linus\",\n",
    "    \"year\" : 2011\n",
    "  }\n",
    "}"
   ]
  },
  {
   "cell_type": "code",
   "execution_count": 125,
   "id": "94b07fee",
   "metadata": {},
   "outputs": [
    {
     "data": {
      "text/plain": [
       "{'child1': {'name': 'Emil', 'year': 2004},\n",
       " 'child2': {'name': 'Tobias', 'year': 2007},\n",
       " 'child3': {'name': 'Linus', 'year': 2011}}"
      ]
     },
     "execution_count": 125,
     "metadata": {},
     "output_type": "execute_result"
    }
   ],
   "source": [
    "myfamily"
   ]
  },
  {
   "cell_type": "code",
   "execution_count": null,
   "id": "62f7a717",
   "metadata": {},
   "outputs": [],
   "source": []
  }
 ],
 "metadata": {
  "kernelspec": {
   "display_name": "Python 3",
   "language": "python",
   "name": "python3"
  },
  "language_info": {
   "codemirror_mode": {
    "name": "ipython",
    "version": 3
   },
   "file_extension": ".py",
   "mimetype": "text/x-python",
   "name": "python",
   "nbconvert_exporter": "python",
   "pygments_lexer": "ipython3",
   "version": "3.7.10"
  }
 },
 "nbformat": 4,
 "nbformat_minor": 5
}
